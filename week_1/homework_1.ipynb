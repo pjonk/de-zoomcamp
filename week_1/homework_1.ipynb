{
 "cells": [
  {
   "cell_type": "markdown",
   "id": "ce7d5633-9248-4a2a-9330-961c881db80c",
   "metadata": {},
   "source": [
    "Question 1"
   ]
  },
  {
   "cell_type": "code",
   "execution_count": 5,
   "id": "3590b66c-3826-41a9-a356-37fd1de92c0d",
   "metadata": {},
   "outputs": [
    {
     "name": "stdout",
     "output_type": "stream",
     "text": [
      "pip 24.3.1 from /usr/local/lib/python3.12/site-packages/pip (python 3.12)\n"
     ]
    }
   ],
   "source": [
    "!docker run -it --rm python:3.12.8 bash -c 'pip --version; exit'"
   ]
  },
  {
   "cell_type": "markdown",
   "id": "04433f29-082c-46f7-999d-3b2fe670602d",
   "metadata": {},
   "source": [
    "Question 2"
   ]
  },
  {
   "cell_type": "markdown",
   "id": "5ed85514-44dd-4b1b-a5d8-25dc3d462d10",
   "metadata": {},
   "source": [
    "host = db\n",
    "\n",
    "port = 5432"
   ]
  },
  {
   "cell_type": "markdown",
   "id": "5a948d9a",
   "metadata": {},
   "source": [
    "Question 3"
   ]
  },
  {
   "cell_type": "markdown",
   "id": "e4866ec6",
   "metadata": {},
   "source": [
    "```\n",
    "SELECT \n",
    "    COUNT(*) FILTER (WHERE trip_distance <= 1) AS n_trips_1,\n",
    "    COUNT(*) FILTER (WHERE trip_distance > 1 AND trip_distance <= 3) AS n_trips_2,\n",
    "    COUNT(*) FILTER (WHERE trip_distance > 3 AND trip_distance <= 7) AS n_trips_3,\n",
    "\tCOUNT(*) FILTER (WHERE trip_distance > 7 AND trip_distance <= 10) AS n_trips_4,\n",
    "    COUNT(*) FILTER (WHERE trip_distance > 10) AS n_trips_5\n",
    "FROM green_taxi_data\n",
    "WHERE lpep_pickup_datetime >= '2019-10-01'\n",
    "  AND lpep_dropoff_datetime < '2019-11-01';\n",
    "```"
   ]
  },
  {
   "cell_type": "markdown",
   "id": "35bdabfb",
   "metadata": {},
   "source": [
    "Question 4"
   ]
  },
  {
   "cell_type": "markdown",
   "id": "ee544d64",
   "metadata": {},
   "source": [
    "```\n",
    "SELECT \n",
    "    DATE(lpep_pickup_datetime) AS pickup_date,\n",
    "    MAX(trip_distance) AS max_trip_distance\n",
    "FROM \n",
    "    green_taxi_data\n",
    "GROUP BY \n",
    "    DATE(lpep_pickup_datetime)\n",
    "ORDER BY \n",
    "    max_trip_distance\n",
    "DESC;\n",
    "```"
   ]
  },
  {
   "cell_type": "markdown",
   "id": "1ea13431",
   "metadata": {},
   "source": [
    "Question 5"
   ]
  },
  {
   "cell_type": "markdown",
   "id": "8e4d553e",
   "metadata": {},
   "source": [
    "```\n",
    "SELECT\n",
    "    zones.\"Zone\" AS zone_name,\n",
    "    SUM(gtd.total_amount) AS summed_total_amounts\n",
    "FROM \n",
    "    green_taxi_data gtd\n",
    "INNER JOIN \n",
    "    zones ON zones.\"LocationID\" = gtd.\"PULocationID\"\n",
    "WHERE\n",
    "    DATE(gtd.lpep_pickup_datetime) = '2019-10-18'\n",
    "GROUP BY\n",
    "    zones.\"Zone\"\n",
    "HAVING \n",
    "    SUM(gtd.total_amount) > 13000\n",
    "ORDER BY \n",
    "    summed_total_amounts DESC;\n",
    "```"
   ]
  },
  {
   "cell_type": "markdown",
   "id": "70a18c66",
   "metadata": {},
   "source": [
    "Question 6"
   ]
  },
  {
   "cell_type": "markdown",
   "id": "d2f447e7",
   "metadata": {},
   "source": [
    "```\n",
    "SELECT \n",
    "    do_location,\n",
    "    max_tip\n",
    "FROM (\n",
    "SELECT \n",
    "\tz2.\"Zone\" as do_location,\n",
    "\tMAX(tip_amount) as max_tip\n",
    "FROM \n",
    "\tgreen_taxi_data gtd\n",
    "INNER JOIN\n",
    "\tzones z1 ON z1.\"LocationID\" = gtd.\"PULocationID\"\n",
    "INNER JOIN\n",
    "\tzones z2 ON z2.\"LocationID\" = gtd.\"DOLocationID\"\n",
    "WHERE lpep_pickup_datetime >= '2019-10-01'\n",
    "  AND lpep_dropoff_datetime < '2019-11-01'\n",
    "  AND z1.\"Zone\" = 'East Harlem North'\n",
    "GROUP BY\n",
    "\tdo_location\n",
    ") AS subquery\n",
    "ORDER BY \n",
    "    max_tip DESC\n",
    "LIMIT 1;\n",
    "```"
   ]
  },
  {
   "cell_type": "markdown",
   "id": "b7592ed3",
   "metadata": {},
   "source": [
    "Question 7"
   ]
  },
  {
   "cell_type": "markdown",
   "id": "fb618ceb",
   "metadata": {},
   "source": [
    "terraform init, terraform apply -auto-approve, terraform destroy"
   ]
  },
  {
   "cell_type": "markdown",
   "id": "ea379475",
   "metadata": {},
   "source": []
  }
 ],
 "metadata": {
  "kernelspec": {
   "display_name": "base",
   "language": "python",
   "name": "python3"
  },
  "language_info": {
   "codemirror_mode": {
    "name": "ipython",
    "version": 3
   },
   "file_extension": ".py",
   "mimetype": "text/x-python",
   "name": "python",
   "nbconvert_exporter": "python",
   "pygments_lexer": "ipython3",
   "version": "3.12.2"
  }
 },
 "nbformat": 4,
 "nbformat_minor": 5
}
